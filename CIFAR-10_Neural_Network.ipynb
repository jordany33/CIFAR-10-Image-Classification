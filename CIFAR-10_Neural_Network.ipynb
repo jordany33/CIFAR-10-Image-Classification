{
 "cells": [
  {
   "cell_type": "code",
   "execution_count": null,
   "metadata": {},
   "outputs": [
    {
     "name": "stdout",
     "output_type": "stream",
     "text": [
      "Files already downloaded and verified\n",
      "Files already downloaded and verified\n",
      "50000 10000\n"
     ]
    }
   ],
   "source": [
    "from datasets import load_dataset\n",
    "from sklearn.model_selection import train_test_split\n",
    "import torch\n",
    "import torchvision\n",
    "import torchvision.transforms as transforms\n",
    "import matplotlib.pyplot as plt\n",
    "from torch.utils.data import Subset\n",
    "\n",
    "\n",
    "transform = transforms.Compose(\n",
    "    [transforms.ToTensor(),\n",
    "     transforms.Normalize((0.5, 0.5, 0.5), (0.5, 0.5, 0.5))])\n",
    "\n",
    "batch_size = 4\n",
    "\n",
    "tr_set = torchvision.datasets.CIFAR10(root='./data', train=True,\n",
    "                                               download=True, transform=transform)\n",
    "te_set = torchvision.datasets.CIFAR10(root='./data', train=False,\n",
    "                                               download=True, transform=transform)\n",
    "\n",
    "indices = list(range(5000))\n",
    "tr_subset = Subset(tr_set, indices)\n",
    "indices = list(range(2500))\n",
    "te_subset = Subset(te_set, indices)\n",
    "\n",
    "#Split ratios for validation and testing sets\n",
    "# validation_ratio = 0.2\n",
    "# te_ratio = 0.1\n",
    "# samples = len(full_set)\n",
    "# val_samples = int(validation_ratio * samples)\n",
    "# te_samples = int(te_ratio * samples)\n",
    "# tr_samples = samples - val_samples - te_samples\n",
    "\n",
    "#Split dataset into training, validation, and testing sets\n",
    "# tr_set, val_set, te_set = torch.utils.data.random_split(full_set,\n",
    "#                                                              [tr_samples, val_samples, te_samples])\n",
    "\n",
    "#Loads the training set\n",
    "tr_loader = torch.utils.data.DataLoader(tr_subset, batch_size=batch_size,\n",
    "                                           shuffle=True, num_workers=2)\n",
    "\n",
    "# Load validation set\n",
    "# val_loader = torch.utils.data.DataLoader(val_set, batch_size=batch_size,\n",
    "#                                          shuffle=False, num_workers=2)\n",
    "\n",
    "# Load test set\n",
    "te_loader = torch.utils.data.DataLoader(te_subset, batch_size=batch_size,\n",
    "                                          shuffle=False, num_workers=2)\n",
    "\n",
    "classes = ('plane', 'car', 'bird', 'cat',\n",
    "           'deer', 'dog', 'frog', 'horse', 'ship', 'truck')\n",
    "\n",
    "print(len(tr_set), len(te_set))"
   ]
  },
  {
   "cell_type": "code",
   "execution_count": null,
   "metadata": {},
   "outputs": [],
   "source": [
    "import numpy as np\n",
    "\n",
    "#Function displays image\n",
    "def imshow(img):\n",
    "    img = img / 2 + 0.5\n",
    "    npimg = img.numpy()\n",
    "    plt.imshow(np.transpose(npimg, (1, 2, 0)))\n",
    "    plt.show()"
   ]
  },
  {
   "cell_type": "code",
   "execution_count": null,
   "metadata": {},
   "outputs": [],
   "source": [
    "import torch.nn as nn\n",
    "import torch.nn.functional as F\n",
    "\n",
    "class ConNeuralNetwork(nn.Module):\n",
    "    def __init__(self):\n",
    "        super().__init__()\n",
    "        self.conv1 = nn.Conv2d(3, 6, 5)\n",
    "        self.pool = nn.MaxPool2d(2, 2)\n",
    "        self.conv2 = nn.Conv2d(6, 16, 5)\n",
    "        self.fc1 = nn.Linear(16 * 5 * 5, 120)\n",
    "        self.fc2 = nn.Linear(120, 84)\n",
    "        self.fc3 = nn.Linear(84, 10)\n",
    "\n",
    "    def forward(self, x):\n",
    "        x = self.pool(F.relu(self.conv1(x)))\n",
    "        x = self.pool(F.relu(self.conv2(x)))\n",
    "        x = torch.flatten(x, 1)\n",
    "        x = F.relu(self.fc1(x))\n",
    "        x = F.relu(self.fc2(x))\n",
    "        x = self.fc3(x)\n",
    "        return x\n",
    "    \n",
    "    def fit(self, device, tr_loader, optimizer, criterion, epochs):\n",
    "        self.train()\n",
    "\n",
    "        for epoch in range(epochs):\n",
    "            for X_tr, y_tr in tr_loader:\n",
    "                X_tr, y_tr = X_tr.to(device), y_tr.to(device)\n",
    "                optimizer.zero_grad()\n",
    "                output = self(X_tr)\n",
    "                loss = criterion(output, y_tr)\n",
    "                loss.backward()\n",
    "                optimizer.step()\n",
    "\n",
    "    def test(self, device, te_loader):\n",
    "        self.eval()\n",
    "        correct = 0\n",
    "        total = 0\n",
    "\n",
    "        with torch.no_grad():\n",
    "            for X_te, y_te in te_loader:\n",
    "                output = self(X_te)\n",
    "                _, predicted = torch.max(output.data, 1)\n",
    "                total += y_te.size(0)\n",
    "                correct += (predicted == y_te).sum().item()\n",
    "        return correct/total\n",
    "\n",
    "model = ConNeuralNetwork()"
   ]
  },
  {
   "cell_type": "code",
   "execution_count": null,
   "metadata": {},
   "outputs": [
    {
     "name": "stdout",
     "output_type": "stream",
     "text": [
      "Finished Training\n",
      "0.496\n"
     ]
    }
   ],
   "source": [
    "import torch.optim as optim\n",
    "import torch.optim.lr_scheduler as lr_scheduler\n",
    "\n",
    "criterion = nn.CrossEntropyLoss()\n",
    "optimizer = optim.SGD(model.parameters(), lr=0.001, momentum=0.9)\n",
    "scheduler = lr_scheduler.StepLR(optimizer, step_size=10, gamma=0.1)\n",
    "\n",
    "device = torch.device('cuda:0' if torch.cuda.is_available() else 'cpu')\n",
    "model.fit(device, tr_loader, optimizer, criterion, epochs=10)\n",
    "\n",
    "print('Finished Training')\n",
    "\n",
    "print(model.test(device, te_loader))"
   ]
  },
  {
   "cell_type": "code",
   "execution_count": 50,
   "metadata": {},
   "outputs": [],
   "source": [
    "def errors_for_train_sizes_cnn(tr_set, te_loader, train_sizes):\n",
    "    tr_err_cnn = [] # training error for CNN\n",
    "    te_err_cnn = [] # testing error for CNN\n",
    "\n",
    "    device = torch.device(\"cuda\" if torch.cuda.is_available() else \"cpu\")\n",
    "    \n",
    "    for size in train_sizes:\n",
    "        indices = list(range(size))\n",
    "        tr_subset = Subset(tr_set, indices)\n",
    "        tr_loader = torch.utils.data.DataLoader(tr_subset, batch_size=4, shuffle=True, num_workers=2)\n",
    "        \n",
    "        model = ConNeuralNetwork()\n",
    "\n",
    "        # Train the model\n",
    "        model.fit(device, tr_loader, optimizer, criterion, epochs=10)\n",
    "        \n",
    "        # Check accuracy for model on training and testing data\n",
    "        tr_acc = model.test(device, tr_loader)\n",
    "        te_acc = model.test(device, te_loader)\n",
    "        \n",
    "        tr_err_cnn.append(1 - tr_acc)\n",
    "        te_err_cnn.append(1 - te_acc)\n",
    "\n",
    "    return tr_err_cnn, te_err_cnn"
   ]
  },
  {
   "cell_type": "code",
   "execution_count": 51,
   "metadata": {},
   "outputs": [],
   "source": [
    "def plot_errors_for_train_sizes_cnn(tr_err_cnn, te_err_cnn, train_sizes):\n",
    "\n",
    "    plt.semilogx(train_sizes, tr_err_cnn, label='tr_cnn', marker='x', color='orange')\n",
    "    plt.semilogx(train_sizes, te_err_cnn, label='te_cnn', linestyle='--', marker='x', color='orange')\n",
    "\n",
    "    plt.xlabel('Num. Training Data Points')\n",
    "    plt.ylabel('Error Rate')\n",
    "\n",
    "    plt.legend()"
   ]
  },
  {
   "cell_type": "code",
   "execution_count": 53,
   "metadata": {},
   "outputs": [
    {
     "data": {
      "image/png": "[encoded data removed]",
      "text/plain": [
       "<Figure size 640x480 with 1 Axes>"
      ]
     },
     "metadata": {},
     "output_type": "display_data"
    }
   ],
   "source": [
    "train_sizes = [50, 500, 2000, 5000, 10000, 20000]\n",
    "tr_err, te_err = errors_for_train_sizes_cnn(tr_set, te_loader, train_sizes)\n",
    "plot_errors_for_train_sizes_cnn(tr_err, te_err, train_sizes)"
   ]
  },
  {
   "cell_type": "code",
   "execution_count": null,
   "metadata": {},
   "outputs": [],
   "source": []
  }
 ],
 "metadata": {
  "language_info": {
   "name": "python"
  }
 },
 "nbformat": 4,
 "nbformat_minor": 2
}
