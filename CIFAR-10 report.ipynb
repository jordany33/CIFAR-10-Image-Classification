{
 "cells": [
  {
   "cell_type": "markdown",
   "metadata": {},
   "source": [
    "---\n",
    "## Table of Content\n",
    "    # Load packages\n",
    "    # Neural Network building\n",
    "    # Function definitions\n",
    "    # Load datasets (training and testing dataset)\n",
    "    # Fine-tune model\n",
    "        # KNN\n",
    "        # Logistic\n",
    "        # Random Forest\n",
    "        # Neural Network (MLP)\n",
    "    # Run experiment\n",
    "        # Learning Curve\n",
    "        # Confusion Matrix\n",
    "        # Prediction Speed"
   ]
  },
  {
   "cell_type": "markdown",
   "metadata": {},
   "source": [
    "---\n",
    "# CIFAR-10 Final Report"
   ]
  },
  {
   "cell_type": "markdown",
   "metadata": {},
   "source": [
    "---\n",
    "# Packages"
   ]
  },
  {
   "cell_type": "code",
   "execution_count": 28,
   "metadata": {},
   "outputs": [],
   "source": [
    "# load packages\n",
    "\n",
    "# Classifiers: KNN, Logistic, RandomForest\n",
    "from sklearn.neighbors import KNeighborsClassifier\n",
    "from sklearn.linear_model import LogisticRegression\n",
    "from sklearn.ensemble import RandomForestClassifier\n",
    "from sklearn.neural_network import MLPClassifier\n",
    "\n",
    "# Classifier: Neural Network\n",
    "import torch.nn as nn\n",
    "import torch.nn.functional as F\n",
    "\n",
    "# Finetuning\n",
    "from sklearn.model_selection import cross_val_score\n",
    "import torch.optim as optim\n",
    "import torch.optim.lr_scheduler as lr_scheduler\n",
    "\n",
    "# Metric: Accuracy, Confusion Matrix, Prediction Speed\n",
    "from sklearn.metrics import accuracy_score, confusion_matrix, ConfusionMatrixDisplay\n",
    "import time\n",
    "\n",
    "# Visualization\n",
    "import matplotlib.pyplot as plt\n",
    "\n",
    "# Data pre-processing\n",
    "import numpy as np\n",
    "from sklearn.preprocessing import StandardScaler\n",
    "from sklearn.model_selection import train_test_split, learning_curve\n",
    "\n",
    "\n",
    "# Data Acquisition\n",
    "import torch\n",
    "import torchvision\n",
    "import torchvision.transforms as transforms\n",
    "from torch.utils.data import Subset, DataLoader\n",
    "\n",
    "seed = 1234\n",
    "np.random.seed(seed)\n",
    "torch.manual_seed(seed)\n",
    "torch.cuda.manual_seed(seed)\n",
    "torch.backends.cudnn.deterministic = True\n",
    "torch.backends.cudnn.benchmark = False"
   ]
  },
  {
   "cell_type": "markdown",
   "metadata": {},
   "source": [
    "---\n",
    "# Neural Network Building"
   ]
  },
  {
   "cell_type": "code",
   "execution_count": 24,
   "metadata": {},
   "outputs": [],
   "source": [
    "class ConNeuralNetwork(nn.Module):\n",
    "    def __init__(self):\n",
    "        super().__init__()\n",
    "        self.conv1 = nn.Conv2d(3, 6, 5)\n",
    "        self.pool = nn.MaxPool2d(2, 2)\n",
    "        self.conv2 = nn.Conv2d(6, 16, 5)\n",
    "        self.fc1 = nn.Linear(16 * 5 * 5, 120)\n",
    "        self.fc2 = nn.Linear(120, 84)\n",
    "        self.fc3 = nn.Linear(84, 10)\n",
    "\n",
    "    def forward(self, x):\n",
    "        x = self.pool(F.relu(self.conv1(x)))\n",
    "        x = self.pool(F.relu(self.conv2(x)))\n",
    "        x = torch.flatten(x, 1)\n",
    "        x = F.relu(self.fc1(x))\n",
    "        x = F.relu(self.fc2(x))\n",
    "        x = self.fc3(x)\n",
    "        return x\n",
    "    \n",
    "    def fit(self, device, tr_loader, optimizer, criterion, epochs):\n",
    "        self.train()\n",
    "        scheduler = lr_scheduler.StepLR(optimizer, step_size=10, gamma=0.1)\n",
    "\n",
    "        for epoch in range(epochs):\n",
    "            for X_tr, y_tr in tr_loader:\n",
    "                X_tr, y_tr = X_tr.to(device), y_tr.to(device)\n",
    "                optimizer.zero_grad()\n",
    "                output = self(X_tr)\n",
    "                loss = criterion(output, y_tr)\n",
    "                loss.backward()\n",
    "                optimizer.step()\n",
    "                \n",
    "            scheduler.step()\n",
    "\n",
    "    \n",
    "    def predict(self, device, loader):\n",
    "        self.eval()  # Set model to evaluation mode\n",
    "        all_preds = []\n",
    "        all_labels = []\n",
    "\n",
    "        with torch.no_grad():\n",
    "            for X_te, y_te in loader:\n",
    "                X_te, y_te = X_te.to(device), y_te.to(device)\n",
    "                output = self(X_te)\n",
    "                preds = output.argmax(dim=1, keepdim=True)\n",
    "                all_preds.extend(preds.cpu().numpy().flatten())\n",
    "                all_labels.extend(y_te.cpu().numpy())\n",
    "\n",
    "        return np.array(all_preds), np.array(all_labels)\n",
    "\n",
    "    def compute_accuracy(self, y_pre, y_true):\n",
    "        correct = (y_true == y_pre).sum()\n",
    "        total = len(y_true)\n",
    "        return correct / total\n"
   ]
  },
  {
   "cell_type": "markdown",
   "metadata": {},
   "source": [
    "---\n",
    "# Function definitions"
   ]
  },
  {
   "cell_type": "code",
   "execution_count": 32,
   "metadata": {},
   "outputs": [],
   "source": [
    "def convert_to_numpy(dataloader):\n",
    "    data, labels = [], []\n",
    "    for i, j in dataloader:\n",
    "        data.append(i.view(i.size(0), -1).numpy())\n",
    "        labels.append(j.numpy())\n",
    "    data = np.concatenate(data)\n",
    "    labels = np.concatenate(labels)\n",
    "    return data, labels\n",
    "\n",
    "def prepare_corpus(trainset:torchvision.datasets, testset:torchvision.datasets):\n",
    "    \"\"\"\n",
    "    return standard scaled X and Y datasets\n",
    "    \"\"\"\n",
    "    # select only part of the dataset (for efficiency)\n",
    "    train_indices = list(range(10000)) \n",
    "    test_indices = list(range(2000))  \n",
    "    # take subset\n",
    "    train_subset = Subset(trainset, train_indices)\n",
    "    test_subset = Subset(testset, test_indices)\n",
    "\n",
    "    batch_size = 4\n",
    "    subset_trainloader = torch.utils.data.DataLoader(train_subset, batch_size=batch_size, shuffle=True, num_workers=2)\n",
    "    subset_testloader = torch.utils.data.DataLoader(test_subset, batch_size=batch_size, shuffle=False, num_workers=2)\n",
    "    # for loading full training and testing dataset\n",
    "    # full_trainloader = torch.utils.data.DataLoader(trainset, batch_size=batch_size, shuffle=True, num_workers=2)\n",
    "    # full_testloader = torch.utils.data.DataLoader(testset, batch_size=batch_size, shuffle=False, num_workers=2)\n",
    "    \n",
    "    X_train, y_train = convert_to_numpy(subset_trainloader)\n",
    "    X_test, y_test = convert_to_numpy(subset_testloader)\n",
    "\n",
    "    # X_full_train, y_full_train = convert_to_numpy(full_trainloader)\n",
    "    # X_full_test, y_full_test = convert_to_numpy(full_testloader)\n",
    "\n",
    "    scaler = StandardScaler()\n",
    "    X_train = scaler.fit_transform(X_train)\n",
    "    X_test = scaler.transform(X_test)\n",
    "    # X_full_train = scaler.fit_transform(X_full_train)\n",
    "    # X_full_test = scaler.transform(X_full_test)\n",
    "\n",
    "    return X_train, y_train, X_test, y_test"
   ]
  },
  {
   "cell_type": "code",
   "execution_count": 57,
   "metadata": {},
   "outputs": [],
   "source": [
    "def errors_for_train_sizes(clf, train_sizes, X_tr, y_tr, X_te, y_te):\n",
    "    tr_err = [] \n",
    "    te_err = [] \n",
    "\n",
    "    for i in train_sizes:\n",
    "        clf.fit(X_tr[:i], y_tr[:i])\n",
    "\n",
    "        y_pred_tr = clf.predict(X_tr[:i])\n",
    "        tr_err.append(1 - accuracy_score(y_tr[:i], y_pred_tr))\n",
    "\n",
    "        y_pred_te = clf.predict(X_te)\n",
    "        te_err.append(1 - accuracy_score(y_te, y_pred_te))\n",
    "\n",
    "    return tr_err, te_err\n",
    "\n",
    "def errors_for_train_sizes_cnn(tr_set, te_loader, train_sizes):\n",
    "    tr_err_cnn = [] # training error for CNN\n",
    "    te_err_cnn = [] # testing error for CNN\n",
    "\n",
    "    device = torch.device(\"cuda\" if torch.cuda.is_available() else \"cpu\")\n",
    "    \n",
    "    for size in train_sizes:\n",
    "        indices = list(range(size))\n",
    "        tr_subset = Subset(tr_set, indices)\n",
    "        tr_loader = DataLoader(tr_subset, batch_size=batch_size, shuffle=True, num_workers=2)\n",
    "        \n",
    "        cnn = ConNeuralNetwork().to(device)\n",
    "        criterion = nn.CrossEntropyLoss()\n",
    "        optimizer = optim.SGD(cnn.parameters(), lr=0.001, momentum=0.9)\n",
    "        \n",
    "        # Train model\n",
    "        cnn.fit(device, tr_loader, optimizer, criterion, epochs=20)\n",
    "        \n",
    "        # Training error\n",
    "        y_pred_train, y_true_train = cnn.predict(device, tr_loader)\n",
    "        train_accuracy = cnn.compute_accuracy(y_pred_train, y_true_train)\n",
    "        train_error = 1 - train_accuracy\n",
    "        tr_err_cnn.append(train_error)\n",
    "        \n",
    "        # Testing error\n",
    "        y_pred_test, y_true_test = cnn.predict(device, te_loader)\n",
    "        test_accuracy = cnn.compute_accuracy(y_pred_test, y_true_test)\n",
    "        test_error = 1 - test_accuracy\n",
    "        te_err_cnn.append(test_error)\n",
    "\n",
    "    return tr_err_cnn, te_err_cnn\n",
    "\n",
    "def plot_errors_for_train_sizes(name:str, train_sizes, tr_err, te_err):\n",
    "    plt.semilogx(train_sizes, tr_err, label='Train', marker='x', linestyle='-', color='blue')\n",
    "    plt.semilogx(train_sizes, te_err, label='Test', marker='x', linestyle='--', color='blue')\n",
    "\n",
    "    plt.xlabel('Number of Training Data Points')\n",
    "    plt.ylabel('Error Rate')\n",
    "    plt.legend()\n",
    "    plt.title(f'Error rate vs training data points for {name}')\n",
    "    plt.show()\n",
    "\n",
    "def reportLearningCurve(clf, name:str, train_sizes, X_train, y_train, X_test, y_test):\n",
    "    tr_err, te_err = errors_for_train_sizes(clf, train_sizes, X_train, y_train, X_test, y_test)\n",
    "    plot_errors_for_train_sizes(name, train_sizes, tr_err, te_err)"
   ]
  },
  {
   "cell_type": "code",
   "execution_count": 50,
   "metadata": {},
   "outputs": [],
   "source": [
    "def reportConfusionMatrix(clf, name:str, X_test, y_test):\n",
    "    y_prediction = clf.predict(X_test)\n",
    "    confusion_matrix = confusion_matrix(y_test, y_prediction)\n",
    "    display:ConfusionMatrixDisplay = ConfusionMatrixDisplay(confusion_matrix=confusion_matrix, display_labels=classes)\n",
    "    display.plot()\n",
    "    plt.title(f\"Confusion Matrix for {name}\")\n",
    "    plt.show()\n",
    "\n",
    "def reportConfusionMatrixCNN(model, loader):\n",
    "    device = torch.device(\"cuda\" if torch.cuda.is_available() else \"cpu\")\n",
    "    y_pre, y_te = model.predict(device, loader)\n",
    "\n",
    "    cm = confusion_matrix(y_te, y_pre)\n",
    "    disp = ConfusionMatrixDisplay(confusion_matrix = cm)\n",
    "    disp.plot()\n",
    "    plt.title(f\"Confusion Matrix for CNN\")"
   ]
  },
  {
   "cell_type": "code",
   "execution_count": 60,
   "metadata": {},
   "outputs": [],
   "source": [
    "def reportPredictionTime(clf, name:str, X_test):\n",
    "    start = time.time()\n",
    "    predictions = clf.predict(X_test)\n",
    "    end = time.time()\n",
    "\n",
    "    prediction_time = end - start\n",
    "    time_per_image = prediction_time / len(X_test)\n",
    "    print(f\"Average prediction time per image by {name}: {time_per_image:.6f} seconds\")\n",
    "\n",
    "def reportPredictionTimeCNN(tr_loader, te_loader, subset):\n",
    "    cnn = ConNeuralNetwork()\n",
    "    criterion = nn.CrossEntropyLoss()\n",
    "    optimizer = optim.SGD(cnn.parameters(), lr=0.001, momentum=0.9)\n",
    "\n",
    "    device = torch.device('cuda:0' if torch.cuda.is_available() else 'cpu')\n",
    "    cnn.fit(device, tr_loader, optimizer, criterion, epochs=20)\n",
    "\n",
    "    start_time = time.time()\n",
    "    y_pre, y_true = cnn.predict(device, te_loader)\n",
    "    end_time = time.time()\n",
    "    prediction_time = end_time - start_time\n",
    "    time_per_image = prediction_time / len(subset)\n",
    "    print(f\"Average prediction time per image by CNN: {time_per_image:.6f} seconds\")"
   ]
  },
  {
   "cell_type": "markdown",
   "metadata": {},
   "source": [
    "---\n",
    "# Load datasets"
   ]
  },
  {
   "cell_type": "code",
   "execution_count": 52,
   "metadata": {},
   "outputs": [
    {
     "name": "stdout",
     "output_type": "stream",
     "text": [
      "Files already downloaded and verified\n",
      "Files already downloaded and verified\n"
     ]
    }
   ],
   "source": [
    "transform = transforms.Compose(\n",
    "    [transforms.ToTensor(),\n",
    "    transforms.Normalize((0.5, 0.5, 0.5), (0.5, 0.5, 0.5))]\n",
    ")\n",
    "full_trainset = torchvision.datasets.CIFAR10(root='./data', train=True,\n",
    "                                            download=True, transform=transform)\n",
    "full_testset = torchvision.datasets.CIFAR10(root='./data', train=False,\n",
    "                                        download=True, transform=transform)\n",
    "batch_size = 4\n",
    "indices = list(range(10000))\n",
    "tr_subset = Subset(full_trainset, indices)\n",
    "indices = list(range(2000))\n",
    "te_subset = Subset(full_testset, indices)\n",
    "\n",
    "#Loads the training set\n",
    "tr_loader = torch.utils.data.DataLoader(tr_subset, batch_size=batch_size,\n",
    "                                           shuffle=True, num_workers=2)\n",
    "\n",
    "# Load test set\n",
    "te_loader = torch.utils.data.DataLoader(te_subset, batch_size=batch_size,\n",
    "                                          shuffle=False, num_workers=2)\n",
    "                                        \n",
    "X_train, y_train, X_test, y_test = prepare_corpus(full_trainset, full_testset)\n",
    "classes = ('plane', 'car', 'bird', 'cat', 'deer', 'dog', 'frog', 'horse', 'ship', 'truck')"
   ]
  },
  {
   "cell_type": "markdown",
   "metadata": {},
   "source": [
    "---\n",
    "# Fine tune models"
   ]
  },
  {
   "cell_type": "markdown",
   "metadata": {},
   "source": [
    "---\n",
    "Fine tune KNN via 5 fold validation"
   ]
  },
  {
   "cell_type": "code",
   "execution_count": 8,
   "metadata": {},
   "outputs": [
    {
     "name": "stdout",
     "output_type": "stream",
     "text": [
      "k = 1, accuracy = 0.2780\n",
      "k = 1, accuracy = 0.2730\n",
      "k = 1, accuracy = 0.2700\n",
      "k = 1, accuracy = 0.2890\n",
      "k = 1, accuracy = 0.2990\n",
      "k = 5, accuracy = 0.2920\n",
      "k = 5, accuracy = 0.2690\n",
      "k = 5, accuracy = 0.2890\n",
      "k = 5, accuracy = 0.2980\n",
      "k = 5, accuracy = 0.2890\n",
      "k = 10, accuracy = 0.2935\n",
      "k = 10, accuracy = 0.2755\n",
      "k = 10, accuracy = 0.2925\n",
      "k = 10, accuracy = 0.2960\n",
      "k = 10, accuracy = 0.2825\n",
      "k = 50, accuracy = 0.2900\n",
      "k = 50, accuracy = 0.2630\n",
      "k = 50, accuracy = 0.2775\n",
      "k = 50, accuracy = 0.2750\n",
      "k = 50, accuracy = 0.2790\n",
      "Best k value: 10, Train Accuracy: 0.3944, Test Accuracy: 0.2815\n"
     ]
    }
   ],
   "source": [
    "k_values = [1, 5, 10, 50]\n",
    "k_accuracies = {}\n",
    "\n",
    "# 5-fold cross-validation\n",
    "for k in k_values:\n",
    "    knn = KNeighborsClassifier(n_neighbors=k)\n",
    "    accuracies = cross_val_score(knn, X_train, y_train, cv=5)\n",
    "    k_accuracies[k] = accuracies\n",
    "    for i in accuracies:\n",
    "        print(f\"k = {k}, accuracy = {i:.4f}\")\n",
    "\n",
    "best_k_value = k_values[np.argmax([np.mean(v) for k, v in sorted(k_accuracies.items())])]\n",
    "knn = KNeighborsClassifier(n_neighbors=best_k_value)\n",
    "knn.fit(X_train, y_train)\n",
    "\n",
    "train_acc = accuracy_score(y_train, knn.predict(X_train))\n",
    "test_acc = accuracy_score(y_test, knn.predict(X_test))\n",
    "\n",
    "print(f\"Best k value: {best_k_value}, Train Accuracy: {train_acc:.4f}, Test Accuracy: {test_acc:.4f}\")"
   ]
  },
  {
   "cell_type": "markdown",
   "metadata": {},
   "source": [
    "---\n",
    "Fine tune Logistic via 5 fold validation"
   ]
  },
  {
   "cell_type": "code",
   "execution_count": 9,
   "metadata": {},
   "outputs": [
    {
     "name": "stdout",
     "output_type": "stream",
     "text": [
      "C = 0.01, accuracy = 0.3545\n",
      "C = 0.01, accuracy = 0.3565\n",
      "C = 0.01, accuracy = 0.3675\n",
      "C = 0.01, accuracy = 0.3475\n",
      "C = 0.01, accuracy = 0.3510\n",
      "C = 0.1, accuracy = 0.3150\n",
      "C = 0.1, accuracy = 0.3055\n",
      "C = 0.1, accuracy = 0.3115\n",
      "C = 0.1, accuracy = 0.3000\n",
      "C = 0.1, accuracy = 0.3105\n",
      "C = 1, accuracy = 0.2835\n",
      "C = 1, accuracy = 0.2695\n",
      "C = 1, accuracy = 0.2800\n",
      "C = 1, accuracy = 0.2655\n",
      "C = 1, accuracy = 0.2835\n",
      "C = 10, accuracy = 0.2630\n",
      "C = 10, accuracy = 0.2480\n",
      "C = 10, accuracy = 0.2580\n",
      "C = 10, accuracy = 0.2430\n",
      "C = 10, accuracy = 0.2615\n",
      "C = 100, accuracy = 0.2640\n",
      "C = 100, accuracy = 0.2455\n",
      "C = 100, accuracy = 0.2550\n",
      "C = 100, accuracy = 0.2425\n",
      "C = 100, accuracy = 0.2520\n",
      "Best C value: 0.01, Train Accuracy: 0.5916, Test Accuracy: 0.3510\n"
     ]
    }
   ],
   "source": [
    "C_values = [0.01, 0.1, 1, 10, 100]\n",
    "C_accuracies = {}\n",
    "\n",
    "# 5-fold cross-validation\n",
    "for C in C_values:\n",
    "    lr = LogisticRegression(C=C, max_iter=5000, random_state=seed)\n",
    "    accuracies = cross_val_score(lr, X_train, y_train, cv=5)\n",
    "    C_accuracies[C] = accuracies\n",
    "    for i in accuracies:\n",
    "        print(f\"C = {C}, accuracy = {i:.4f}\")\n",
    "\n",
    "best_C_value = C_values[np.argmax([np.mean(v) for C, v in sorted(C_accuracies.items())])]\n",
    "lr = LogisticRegression(C=best_C_value, max_iter=5000, random_state=seed)\n",
    "lr.fit(X_train, y_train)\n",
    "\n",
    "train_acc = accuracy_score(y_train, lr.predict(X_train))\n",
    "test_acc = accuracy_score(y_test, lr.predict(X_test))\n",
    "\n",
    "print(f\"Best C value: {best_C_value}, Train Accuracy: {train_acc:.4f}, Test Accuracy: {test_acc:.4f}\")"
   ]
  },
  {
   "cell_type": "markdown",
   "metadata": {},
   "source": [
    "---\n",
    "Fine tune RandomForest via grid search"
   ]
  },
  {
   "cell_type": "code",
   "execution_count": 10,
   "metadata": {},
   "outputs": [
    {
     "name": "stdout",
     "output_type": "stream",
     "text": [
      "5      2      2\n",
      "Accuracy:  0.2755\n",
      "5      2      5\n",
      "Accuracy:  0.3075\n",
      "5      2      10\n",
      "Accuracy:  0.3285\n",
      "5      5      2\n",
      "Accuracy:  0.3095\n",
      "5      5      5\n",
      "Accuracy:  0.298\n",
      "5      5      10\n",
      "Accuracy:  0.3055\n",
      "5      10      2\n",
      "Accuracy:  0.3085\n",
      "5      10      5\n",
      "Accuracy:  0.295\n",
      "5      10      10\n",
      "Accuracy:  0.309\n",
      "25      2      2\n",
      "Accuracy:  0.381\n",
      "25      2      5\n",
      "Accuracy:  0.4015\n",
      "25      2      10\n",
      "Accuracy:  0.3875\n",
      "25      5      2\n",
      "Accuracy:  0.3865\n",
      "25      5      5\n",
      "Accuracy:  0.383\n",
      "25      5      10\n",
      "Accuracy:  0.3985\n",
      "25      10      2\n",
      "Accuracy:  0.396\n",
      "25      10      5\n",
      "Accuracy:  0.3925\n",
      "25      10      10\n",
      "Accuracy:  0.379\n",
      "50      2      2\n",
      "Accuracy:  0.406\n",
      "50      2      5\n",
      "Accuracy:  0.4195\n",
      "50      2      10\n",
      "Accuracy:  0.407\n",
      "50      5      2\n",
      "Accuracy:  0.4105\n",
      "50      5      5\n",
      "Accuracy:  0.4215\n",
      "50      5      10\n",
      "Accuracy:  0.4135\n",
      "50      10      2\n",
      "Accuracy:  0.4005\n",
      "50      10      5\n",
      "Accuracy:  0.415\n",
      "50      10      10\n",
      "Accuracy:  0.411\n",
      "100      2      2\n",
      "Accuracy:  0.4295\n",
      "100      2      5\n",
      "Accuracy:  0.4225\n",
      "100      2      10\n",
      "Accuracy:  0.4075\n",
      "100      5      2\n",
      "Accuracy:  0.4325\n",
      "100      5      5\n",
      "Accuracy:  0.429\n",
      "100      5      10\n",
      "Accuracy:  0.419\n",
      "100      10      2\n",
      "Accuracy:  0.4265\n",
      "100      10      5\n",
      "Accuracy:  0.4315\n",
      "100      10      10\n",
      "Accuracy:  0.4245\n",
      "Best model (hyper parameters):  [(100, 5, 2)] Accuracy_score:  0.4325\n"
     ]
    }
   ],
   "source": [
    "parameters = {\n",
    "    \"n_estimators\" : [5,25,50,100],\n",
    "    \"min_samples_split\" : [2,5,10],\n",
    "    \"min_samples_leaf\" : [2,5,10]\n",
    "}\n",
    "record = dict()\n",
    "for x in parameters[\"n_estimators\"]:\n",
    "    for y in parameters[\"min_samples_split\"]:\n",
    "        for z in parameters[\"min_samples_leaf\"]:\n",
    "            print(x,y,z, sep=\"      \")\n",
    "            clf:RandomForestClassifier = RandomForestClassifier(n_estimators=x,\n",
    "                                                    criterion = 'gini',\n",
    "                                                    min_samples_split = y,\n",
    "                                                    min_samples_leaf = z,\n",
    "                                                    )\n",
    "            clf.fit(X_train, y_train)\n",
    "            acc = accuracy_score(y_test, clf.predict(X_test))\n",
    "            record[acc] = record.get(acc, []) +[(x,y,z)]\n",
    "            print(\"Accuracy: \", acc)\n",
    "\n",
    "best_acc = max(record.keys())\n",
    "best_model = record[best_acc]\n",
    "\n",
    "print(\"Best model (hyper parameters): \", best_model, \"Accuracy_score: \", best_acc )"
   ]
  },
  {
   "cell_type": "markdown",
   "metadata": {},
   "source": [
    "---\n",
    "Fine tune neural network via Epoch"
   ]
  },
  {
   "cell_type": "code",
   "execution_count": 27,
   "metadata": {},
   "outputs": [
    {
     "name": "stdout",
     "output_type": "stream",
     "text": [
      "Epochs: 1, Accuracy: 0.2755\n",
      "Epochs: 5, Accuracy: 0.4915\n",
      "Epochs: 10, Accuracy: 0.4795\n",
      "Epochs: 20, Accuracy: 0.5175\n",
      "Epochs: 30, Accuracy: 0.5055\n",
      "Best Epochs: 20, Best Accuracy: 0.5175\n",
      "20\n"
     ]
    }
   ],
   "source": [
    "def find_best_epochs(epochs):\n",
    "    best_epochs = None\n",
    "    best_accuracy = 0.0\n",
    "    cnn = ConNeuralNetwork()\n",
    "\n",
    "    for epoch in epochs:\n",
    "        criterion = nn.CrossEntropyLoss()\n",
    "        optimizer = optim.SGD(cnn.parameters(), lr=0.001, momentum=0.9)\n",
    "\n",
    "        device = torch.device('cuda:0' if torch.cuda.is_available() else 'cpu')\n",
    "        cnn.fit(device, tr_loader, optimizer, criterion, epochs=epoch)\n",
    "\n",
    "        y_pre, y_true = cnn.predict(device, te_loader)\n",
    "\n",
    "        accuracy = cnn.compute_accuracy(y_pre, y_true)\n",
    "        print(f\"Epochs: {epoch}, Accuracy: {accuracy}\")\n",
    "\n",
    "        if accuracy > best_accuracy:\n",
    "            best_accuracy = accuracy\n",
    "            best_epochs = epoch\n",
    "\n",
    "    print(f\"Best Epochs: {best_epochs}, Best Accuracy: {best_accuracy}\")\n",
    "    return best_epochs\n",
    "\n",
    "print(find_best_epochs([1, 5, 10, 20, 30]))"
   ]
  },
  {
   "cell_type": "markdown",
   "metadata": {},
   "source": [
    "---\n",
    "Fine tune neural network via Batch Size"
   ]
  },
  {
   "cell_type": "code",
   "execution_count": 14,
   "metadata": {},
   "outputs": [
    {
     "name": "stdout",
     "output_type": "stream",
     "text": [
      "Batch Size: 32, Accuracy: 0.3955\n",
      "Batch Size: 64, Accuracy: 0.396\n",
      "Batch Size: 128, Accuracy: 0.3965\n",
      "Batch Size: 256, Accuracy: 0.3925\n",
      "Best Batch Size: 128, Best Accuracy: 0.3965\n"
     ]
    },
    {
     "data": {
      "text/plain": [
       "128"
      ]
     },
     "execution_count": 14,
     "metadata": {},
     "output_type": "execute_result"
    }
   ],
   "source": [
    "X_tr = np.array([full_trainset[i][0].numpy() for i in range(len(full_trainset))])\n",
    "y_tr = np.array([full_trainset[i][1] for i in range(len(full_trainset))])\n",
    "X_te = np.array([full_testset[i][0].numpy() for i in range(len(full_testset))])\n",
    "y_te = np.array([full_testset[i][1] for i in range(len(full_testset))])\n",
    "\n",
    "def reshape_data(X_tr, X_te):\n",
    "\n",
    "    X_tr_shaped = X_tr.reshape(X_tr.shape[0], -1)\n",
    "    X_te_shaped = X_te.reshape(X_te.shape[0], -1)\n",
    "\n",
    "    return X_tr_shaped, X_te_shaped\n",
    "\n",
    "X_tr_shaped, X_te_shaped = reshape_data(X_tr, X_te)\n",
    "\n",
    "def find_best_batch_size(X_tr, y_tr, X_te, y_te, batch_sizes, seed):\n",
    "    best_batch_size = None\n",
    "    best_accuracy = 0.0\n",
    "    \n",
    "    for batch_size in batch_sizes:\n",
    "        mlp = MLPClassifier(hidden_layer_sizes=64, activation='relu', solver='adam', learning_rate_init=0.001, batch_size=batch_size, random_state=seed, max_iter=1000)\n",
    "        \n",
    "        mlp.fit(X_tr, y_tr)\n",
    "    \n",
    "        y_te_pred = mlp.predict(X_te)\n",
    "        accuracy = accuracy_score(y_te, y_te_pred)\n",
    "        \n",
    "        print(f\"Batch Size: {batch_size}, Accuracy: {accuracy}\")\n",
    "        \n",
    "        if accuracy > best_accuracy:\n",
    "            best_accuracy = accuracy\n",
    "            best_batch_size = batch_size\n",
    "    \n",
    "    print(f\"Best Batch Size: {best_batch_size}, Best Accuracy: {best_accuracy}\")\n",
    "    return best_batch_size\n",
    "\n",
    "batch_sizes = [32, 64, 128, 256]\n",
    "find_best_batch_size(X_tr_shaped[:10000], y_tr[:10000], X_te_shaped[:2000], y_te[:2000], batch_sizes, seed)"
   ]
  },
  {
   "cell_type": "markdown",
   "metadata": {},
   "source": [
    "---\n",
    "# Performance Report"
   ]
  },
  {
   "cell_type": "code",
   "execution_count": 48,
   "metadata": {},
   "outputs": [],
   "source": [
    "best_k = 10\n",
    "best_C = 0.01\n",
    "\n",
    "# set up fine tuned models\n",
    "knn = KNeighborsClassifier(n_neighbors=best_k)\n",
    "lr = LogisticRegression(C=best_C, max_iter=5000, random_state=seed)\n",
    "rf = RandomForestClassifier(n_estimators=100, criterion = 'gini', min_samples_split = 5, min_samples_leaf = 5)\n",
    "mlp = MLPClassifier(hidden_layer_sizes=64, activation='relu', solver='adam', learning_rate_init=0.001, batch_size=128, random_state=seed, max_iter=1000)\n",
    "cnn = ConNeuralNetwork()\n",
    "#neural = model"
   ]
  },
  {
   "cell_type": "code",
   "execution_count": 38,
   "metadata": {},
   "outputs": [
    {
     "data": {
      "image/png": "[encoded data removed]",
      "text/plain": [
       "<Figure size 640x480 with 1 Axes>"
      ]
     },
     "metadata": {},
     "output_type": "display_data"
    }
   ],
   "source": [
    "# report Learning curve\n",
    "train_sizes = [50, 500, 2000]\n",
    "# reportLearningCurve(knn, \"KNN\", train_sizes, X_train, y_train, X_test, y_test)\n",
    "# reportLearningCurve(lr, \"Logistic\", train_sizes, X_train, y_train, X_test, y_test)\n",
    "# reportLearningCurve(rf, \"RandomForest\", train_sizes, X_train, y_train, X_test, y_test)\n",
    "# reportLearningCurve(mlp, \"MLP\", train_sizes, X_train, y_train, X_test, y_test)\n",
    "tr_err_cnn, te_err_cnn = errors_for_train_sizes_cnn(full_trainset, te_loader, train_sizes)\n",
    "plot_errors_for_train_sizes(\"CNN\", train_sizes, tr_err_cnn, te_err_cnn)"
   ]
  },
  {
   "cell_type": "code",
   "execution_count": 56,
   "metadata": {},
   "outputs": [
    {
     "data": {
      "image/png": "[encoded data removed]",
      "text/plain": [
       "<Figure size 640x480 with 2 Axes>"
      ]
     },
     "metadata": {},
     "output_type": "display_data"
    }
   ],
   "source": [
    "# report Confusion matrix\n",
    "reportConfusionMatrix(knn, \"KNN\", X_test=X_test, y_test = y_test)\n",
    "reportConfusionMatrix(lr, \"Logistic\", X_test=X_test, y_test = y_test)\n",
    "reportConfusionMatrix(rf, \"RandomForest\", X_test=X_test, y_test = y_test)\n",
    "reportConfusionMatrix(mlp, \"MLP\", X_test=X_test, y_test = y_test)\n",
    "reportConfusionMatrixCNN(cnn, te_loader)"
   ]
  },
  {
   "cell_type": "code",
   "execution_count": 61,
   "metadata": {},
   "outputs": [
    {
     "name": "stdout",
     "output_type": "stream",
     "text": [
      "Average prediction time per image by CNN: 0.003607 seconds\n"
     ]
    }
   ],
   "source": [
    "# report Prediction speed\n",
    "reportPredictionTime(knn, name = \"KNN\", X_test=X_test)\n",
    "reportPredictionTime(lr, name = \"Logistic\", X_test=X_test)\n",
    "reportPredictionTime(rf, name = \"RandomForest\", X_test=X_test)\n",
    "reportPredictionTime(mlp, name = \"MLPClassifier\", X_test=X_test)\n",
    "reportPredictionTimeCNN(tr_loader, te_loader, te_subset)"
   ]
  }
 ],
 "metadata": {
  "kernelspec": {
   "display_name": "cs178",
   "language": "python",
   "name": "python3"
  },
  "language_info": {
   "codemirror_mode": {
    "name": "ipython",
    "version": 3
   },
   "file_extension": ".py",
   "mimetype": "text/x-python",
   "name": "python",
   "nbconvert_exporter": "python",
   "pygments_lexer": "ipython3",
   "version": "3.10.14"
  }
 },
 "nbformat": 4,
 "nbformat_minor": 2
}
