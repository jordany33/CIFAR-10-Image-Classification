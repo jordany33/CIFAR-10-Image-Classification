{
 "cells": [
  {
   "cell_type": "code",
   "execution_count": 28,
   "metadata": {},
   "outputs": [
    {
     "name": "stdout",
     "output_type": "stream",
     "text": [
      "Requirement already satisfied: torch in /opt/anaconda3/envs/cs178/lib/python3.10/site-packages (2.3.1)\n",
      "Requirement already satisfied: torchvision in /opt/anaconda3/envs/cs178/lib/python3.10/site-packages (0.18.1)\n",
      "Requirement already satisfied: filelock in /opt/anaconda3/envs/cs178/lib/python3.10/site-packages (from torch) (3.14.0)\n",
      "Requirement already satisfied: typing-extensions>=4.8.0 in /opt/anaconda3/envs/cs178/lib/python3.10/site-packages (from torch) (4.11.0)\n",
      "Requirement already satisfied: sympy in /opt/anaconda3/envs/cs178/lib/python3.10/site-packages (from torch) (1.12.1)\n",
      "Requirement already satisfied: networkx in /opt/anaconda3/envs/cs178/lib/python3.10/site-packages (from torch) (3.3)\n",
      "Requirement already satisfied: jinja2 in /opt/anaconda3/envs/cs178/lib/python3.10/site-packages (from torch) (3.1.3)\n",
      "Requirement already satisfied: fsspec in /opt/anaconda3/envs/cs178/lib/python3.10/site-packages (from torch) (2024.3.1)\n",
      "Requirement already satisfied: numpy in /opt/anaconda3/envs/cs178/lib/python3.10/site-packages (from torchvision) (1.26.4)\n",
      "Requirement already satisfied: pillow!=8.3.*,>=5.3.0 in /opt/anaconda3/envs/cs178/lib/python3.10/site-packages (from torchvision) (10.3.0)\n",
      "Requirement already satisfied: MarkupSafe>=2.0 in /opt/anaconda3/envs/cs178/lib/python3.10/site-packages (from jinja2->torch) (2.1.5)\n",
      "Requirement already satisfied: mpmath<1.4.0,>=1.1.0 in /opt/anaconda3/envs/cs178/lib/python3.10/site-packages (from sympy->torch) (1.3.0)\n"
     ]
    }
   ],
   "source": [
    "! pip install torch torchvision"
   ]
  },
  {
   "cell_type": "code",
   "execution_count": null,
   "metadata": {},
   "outputs": [],
   "source": [
    "# import packages\n",
    "from datasets import load_dataset\n",
    "from sklearn.ensemble import RandomForestClassifier\n",
    "from sklearn.metrics import accuracy_score, confusion_matrix, ConfusionMatrixDisplay\n",
    "import matplotlib.pyplot as plt\n",
    "from sklearn.preprocessing import StandardScaler\n",
    "from sklearn.model_selection import train_test_split, learning_curve\n",
    "import numpy as np\n",
    "import time\n",
    "\n",
    "import torch\n",
    "import torchvision\n",
    "import torchvision.transforms as transforms\n",
    "from torch.utils.data import Subset\n",
    "\n",
    "seed = 1234\n",
    "np.random.seed(seed)\n",
    "torch.manual_seed(seed)\n",
    "torch.cuda.manual_seed(seed)\n",
    "torch.backends.cudnn.deterministic = True\n",
    "torch.backends.cudnn.benchmark = False\n"
   ]
  },
  {
   "cell_type": "code",
   "execution_count": null,
   "metadata": {},
   "outputs": [],
   "source": [
    "# load dataset, only the first 100000\n",
    "def convert_to_numpy(dataloader):\n",
    "    data, labels = [], []\n",
    "    for images, lbls in dataloader:\n",
    "        data.append(images.view(images.size(0), -1).numpy())\n",
    "        labels.append(lbls.numpy())\n",
    "    data = np.concatenate(data)\n",
    "    labels = np.concatenate(labels)\n",
    "    return data, labels\n",
    "\n",
    "def prepare_corpus(trainset:torchvision.datasets, testset:torchvision.datasets):\n",
    "    \"\"\"\n",
    "    return standard scaled X and Y datasets\n",
    "    \"\"\"\n",
    "    # select only part of the dataset (for efficiency)\n",
    "    train_indices = list(range(10000)) \n",
    "    test_indices = list(range(2000))  \n",
    "    # take subset\n",
    "    train_subset = Subset(trainset, train_indices)\n",
    "    test_subset = Subset(testset, test_indices)\n",
    "\n",
    "    batch_size = 4\n",
    "    subset_trainloader = torch.utils.data.DataLoader(train_subset, batch_size=batch_size, shuffle=True, num_workers=2)\n",
    "    subset_testloader = torch.utils.data.DataLoader(test_subset, batch_size=batch_size, shuffle=False, num_workers=2)\n",
    "    # for loading full training and testing dataset\n",
    "    # full_trainloader = torch.utils.data.DataLoader(trainset, batch_size=batch_size, shuffle=True, num_workers=2)\n",
    "    # full_testloader = torch.utils.data.DataLoader(testset, batch_size=batch_size, shuffle=False, num_workers=2)\n",
    "    \n",
    "    X_train, y_train = convert_to_numpy(subset_trainloader)\n",
    "    X_test, y_test = convert_to_numpy(subset_testloader)\n",
    "\n",
    "    # X_full_train, y_full_train = convert_to_numpy(full_trainloader)\n",
    "    # X_full_test, y_full_test = convert_to_numpy(full_testloader)\n",
    "\n",
    "    scaler = StandardScaler()\n",
    "    X_train = scaler.fit_transform(X_train)\n",
    "    X_test = scaler.transform(X_test)\n",
    "    # X_full_train = scaler.fit_transform(X_full_train)\n",
    "    # X_full_test = scaler.transform(X_full_test)\n",
    "\n",
    "    return X_train, y_train, X_test, y_test\n"
   ]
  },
  {
   "cell_type": "code",
   "execution_count": null,
   "metadata": {},
   "outputs": [],
   "source": [
    "# Find best hyperparameter"
   ]
  },
  {
   "cell_type": "code",
   "execution_count": null,
   "metadata": {},
   "outputs": [],
   "source": [
    "def errors_for_train_sizes(clf, X_tr, y_tr, X_te, y_te, train_sizes):\n",
    "    tr_err = [] \n",
    "    te_err = [] \n",
    "\n",
    "    for i in train_sizes:\n",
    "        clf.fit(X_tr[:i], y_tr[:i])\n",
    "\n",
    "        train_predictions = clf.predict(X_tr[:i])\n",
    "        tr_err.append(1 - np.mean(train_predictions == y_tr[:i]))\n",
    "\n",
    "        test_predictions = clf.predict(X_te)\n",
    "        te_err.append(1 - np.mean(test_predictions == y_te))\n",
    "\n",
    "    return tr_err, te_err\n",
    "\n",
    "def plot_errors_for_train_sizes(train_sizes, tr_err, te_err):\n",
    "    plt.semilogx(train_sizes, tr_err, label='Train', marker='x', linestyle='-', color='blue')\n",
    "    plt.semilogx(train_sizes, te_err, label='Test', marker='x', linestyle='--', color='blue')\n",
    "\n",
    "    plt.xlabel('Number of Training Data Points')\n",
    "    plt.ylabel('Error Rate')\n",
    "    plt.legend()\n",
    "    plt.title('Error rate vs training data points')\n",
    "    plt.show()\n",
    "\n",
    "def reportLearningCurve(clf, train_sizes, X_train, y_train, X_test, y_test):\n",
    "    tr_err, te_err = errors_for_train_sizes(X_train, y_train, X_test, y_test, train_sizes)\n",
    "    plot_errors_for_train_sizes(train_sizes, tr_err, te_err)\n"
   ]
  },
  {
   "cell_type": "code",
   "execution_count": null,
   "metadata": {},
   "outputs": [],
   "source": [
    "def reportConfusionMatrix(clf, title:str, X_test, y_test):\n",
    "    y_pred = clf.predict(X_test)\n",
    "    cm = confusion_matrix(y_test, y_pred)\n",
    "    disp:ConfusionMatrixDisplay = ConfusionMatrixDisplay(confusion_matrix=cm, display_labels=classes)\n",
    "    disp.plot()\n",
    "    plt.title(title)\n",
    "    plt.show()"
   ]
  },
  {
   "cell_type": "code",
   "execution_count": null,
   "metadata": {},
   "outputs": [],
   "source": [
    "def reportPredictionTime(clf, X_test):\n",
    "    start_time = time.time()\n",
    "    predictions = clf.predict(X_test)\n",
    "    end_time = time.time()\n",
    "\n",
    "    prediction_time = end_time - start_time\n",
    "    time_per_image = prediction_time / len(X_test)\n",
    "    print(f\"Average prediction time per image: {time_per_image:.6f} seconds\")"
   ]
  },
  {
   "cell_type": "code",
   "execution_count": null,
   "metadata": {},
   "outputs": [],
   "source": [
    "# prepare corpus\n",
    "transform = transforms.Compose(\n",
    "    [transforms.ToTensor(),\n",
    "    transforms.Normalize((0.5, 0.5, 0.5), (0.5, 0.5, 0.5))]\n",
    ")\n",
    "full_trainset = torchvision.datasets.CIFAR10(root='./data', train=True,\n",
    "                                            download=True, transform=transform)\n",
    "full_testset = torchvision.datasets.CIFAR10(root='./data', train=False,\n",
    "                                        download=True, transform=transform)\n",
    "                                        \n",
    "X_train, y_train, X_test, y_test = prepare_corpus(full_trainset, full_testset)\n",
    "classes = ('plane', 'car', 'bird', 'cat', 'deer', 'dog', 'frog', 'horse', 'ship', 'truck')"
   ]
  },
  {
   "cell_type": "code",
   "execution_count": null,
   "metadata": {},
   "outputs": [],
   "source": [
    "# find best hyper-parameter\n",
    "clf:RandomForestClassifier = RandomForestClassifier()"
   ]
  },
  {
   "cell_type": "code",
   "execution_count": null,
   "metadata": {},
   "outputs": [],
   "source": [
    "# report learning curve\n",
    "train_sizes = [50, 500, 2000, 5000, 10000, 20000, 40000]\n",
    "reportLearningCurve(clf, train_sizes, X_train, y_train, X_test, y_test)"
   ]
  },
  {
   "cell_type": "code",
   "execution_count": null,
   "metadata": {},
   "outputs": [],
   "source": [
    "# report Confusion matrix\n",
    "reportConfusionMatrix(clf, title=\"Confusion Matrix for RandomForest\", X_test=X_test, y_test = y_test)"
   ]
  },
  {
   "cell_type": "code",
   "execution_count": null,
   "metadata": {},
   "outputs": [],
   "source": [
    "# report Prediction speed\n",
    "reportPredictionTime(clf, X_test=X_test)"
   ]
  },
  {
   "cell_type": "code",
   "execution_count": null,
   "metadata": {},
   "outputs": [],
   "source": [
    "# prepare corpus\n",
    "transform = transforms.Compose(\n",
    "    [transforms.ToTensor(),\n",
    "    transforms.Normalize((0.5, 0.5, 0.5), (0.5, 0.5, 0.5))]\n",
    ")\n",
    "full_trainset = torchvision.datasets.CIFAR10(root='./data', train=True,\n",
    "                                            download=True, transform=transform)\n",
    "full_testset = torchvision.datasets.CIFAR10(root='./data', train=False,\n",
    "                                        download=True, transform=transform)\n",
    "                                        \n",
    "X_train, y_train, X_test, y_test = prepare_corpus(full_trainset, full_testset)\n",
    "\n",
    "classes = ('plane', 'car', 'bird', 'cat', 'deer', 'dog', 'frog', 'horse', 'ship', 'truck')\n",
    "\n",
    "# find best hyper-parameter\n",
    "clf:RandomForestClassifier = RandomForestClassifier()\n",
    "# report learning curve\n",
    "train_sizes = [50, 500, 2000, 5000, 10000, 20000, 40000]\n",
    "reportLearningCurve(clf, train_sizes, X_train, y_train, X_test, y_test)\n",
    "# report Confusion matrix\n",
    "reportConfusionMatrix(clf, title=\"Confusion Matrix for RandomForest\", X_test=X_test, y_test = y_test)\n",
    "# report Prediction speed\n",
    "reportPredictionTime(clf, X_test=X_test)"
   ]
  }
 ],
 "metadata": {
  "kernelspec": {
   "display_name": "cs178",
   "language": "python",
   "name": "python3"
  },
  "language_info": {
   "codemirror_mode": {
    "name": "ipython",
    "version": 3
   },
   "file_extension": ".py",
   "mimetype": "text/x-python",
   "name": "python",
   "nbconvert_exporter": "python",
   "pygments_lexer": "ipython3",
   "version": "3.10.13"
  }
 },
 "nbformat": 4,
 "nbformat_minor": 2
}
